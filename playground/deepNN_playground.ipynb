{
 "cells": [
  {
   "cell_type": "markdown",
   "metadata": {},
   "source": [
    "### Convolutinal Neural Network\n",
    "- 畳み込み処理により、人間の脳で行われているような抽象的な処理が可能に\n",
    "- 昔は畳み込み処理に使うフィルターの中身は、人間が頑張って考えていたらしい。深層学習すげぇ\n",
    "- NNの計算量のほとんどは特徴量選択に使われているらしい\n",
    "\n",
    "#### 畳み込みNNと全結合NNは何がどう違うのか？\n",
    "全結合NN：全結合→活性化関数→全結合→活性化関数→ ... →全結合→活性化→出力  \n",
    "畳み込み：畳み込み→活性化→プール→畳み込み→活性化→プール→ ... →全結合→活性化→出力  \n",
    "\n",
    "畳み込み；\n",
    "- 画像の一部の範囲について、フィルターの値と内積計算、計算結果の行列を出力とする\n",
    "- フィルター行列の値各々を重みwと捉え、誤差逆伝播法で学習する。\n",
    "- 内積計算結果の各要素にbiasを足して計算することもできる。というかよくやるらしい？\n",
    "\n",
    "プーリング；\n",
    "- 画像の一部の範囲について、最大値や平均値を取る操作\n",
    "- 位置のずれに対して強くなる"
   ]
  },
  {
   "cell_type": "markdown",
   "metadata": {},
   "source": [
    "### 簡単なデータで畳み込み、プーリングしてみる"
   ]
  },
  {
   "cell_type": "code",
   "execution_count": 3,
   "metadata": {},
   "outputs": [],
   "source": [
    "# import chainer\n",
    "from PIL import Image\n",
    "import numpy as np\n",
    "import matplotlib.pyplot as plt"
   ]
  },
  {
   "cell_type": "code",
   "execution_count": 19,
   "metadata": {},
   "outputs": [
    {
     "data": {
      "text/plain": [
       "(array([[1, 2, 3, 0],\n",
       "        [0, 1, 2, 3],\n",
       "        [3, 0, 1, 2],\n",
       "        [2, 3, 0, 1]]),\n",
       " array([[2, 0, 1],\n",
       "        [0, 1, 2],\n",
       "        [1, 0, 2]]))"
      ]
     },
     "execution_count": 19,
     "metadata": {},
     "output_type": "execute_result"
    }
   ],
   "source": [
    "img = np.array([[1,2,3,0],[0,1,2,3],[3,0,1,2],[2,3,0,1]]) \n",
    "flt = np.array([[2,0,1],[0,1,2],[1,0,2]])\n",
    "img, flt"
   ]
  },
  {
   "cell_type": "code",
   "execution_count": 134,
   "metadata": {},
   "outputs": [
    {
     "data": {
      "text/plain": [
       "(array([[1., 2., 3., 0., 1., 2., 3., 0., 1.],\n",
       "        [2., 3., 0., 1., 2., 3., 0., 1., 2.],\n",
       "        [0., 1., 2., 3., 0., 1., 2., 3., 0.],\n",
       "        [1., 2., 3., 0., 1., 2., 3., 0., 1.]]),\n",
       " array([2, 0, 1, 0, 1, 2, 1, 0, 2]))"
      ]
     },
     "execution_count": 134,
     "metadata": {},
     "output_type": "execute_result"
    }
   ],
   "source": [
    "### Convolution\n",
    "img_xform = np.zeros((4, 9))\n",
    "img_xform[0] = img[0:3, 0:3].flatten()\n",
    "img_xform[1] = img[0:3, 1:4].flatten()\n",
    "img_xform[2] = img[1:4, 0:3].flatten()\n",
    "img_xform[3] = img[1:4, 1:4].flatten()\n",
    "\n",
    "flt_xform = flt.flatten()\n",
    "\n",
    "img_xform, flt_xform"
   ]
  },
  {
   "cell_type": "code",
   "execution_count": 143,
   "metadata": {},
   "outputs": [
    {
     "data": {
      "text/plain": [
       "array([[15., 16.],\n",
       "       [ 6., 15.]])"
      ]
     },
     "execution_count": 143,
     "metadata": {},
     "output_type": "execute_result"
    }
   ],
   "source": [
    "img_convoluted = np.sum((flt[None, :] * img_xform), axis=1).reshape(2, 2)\n",
    "img_convoluted\n"
   ]
  },
  {
   "cell_type": "code",
   "execution_count": 183,
   "metadata": {},
   "outputs": [
    {
     "data": {
      "text/plain": [
       "array([[2., 3.],\n",
       "       [3., 2.]])"
      ]
     },
     "execution_count": 183,
     "metadata": {},
     "output_type": "execute_result"
    }
   ],
   "source": [
    "### Pooling\n",
    "size = 2 # window size\n",
    "stride = 2 # usually the same with window size\n",
    "\n",
    "img_xform_pool = np.zeros((4, 4))\n",
    "img_xform_pool[0] = img[0:size, 0:size].reshape(-1)\n",
    "img_xform_pool[1] = img[0:size, 0+stride:size+stride].reshape(-1)\n",
    "img_xform_pool[2] = img[0+stride:size+stride, 0:size].reshape(-1)\n",
    "img_xform_pool[3] = img[0+stride:size+stride, 0+stride:size+stride].reshape(-1)\n",
    "img_xform_pool\n",
    "\n",
    "img_maxpool = np.max(img_xform_pool, axis=1).reshape(2, 2)\n",
    "img_maxpool"
   ]
  },
  {
   "cell_type": "markdown",
   "metadata": {},
   "source": [
    "### Clustering\n",
    "- 似たものを集めて群を作る\n",
    "- クラスタってのはよくマーケで使われる\n",
    "- クラスタリングの正解は基本的には存在しない\n",
    "\n",
    "#### 手法の一覧\n",
    "- k-means\n",
    "- X-means\n",
    "- Gaussian Mixture Model\n",
    "- Dirichlet process gaussian\n",
    "k-meansは割と汎用性があるので、k-meansでどうしても太刀打ちできないときに他のモデルを検討すればいいらしい\n",
    "\n",
    "#### k-means\n",
    "概要\n",
    "- 事前にk個のグループがあると想定（hyperparameter）\n",
    "- k個のグループの中心点をランダムに配置\n",
    "- 各データ点を、一番近い中心点が属するグループに割り当てる\n",
    "- 誤差関数を計算して中心点の更新をする、以上を繰り返す\n",
    "\n",
    "注意点\n",
    "- 中心点の初期位置によっては満足な結果が得られない\n",
    "- ランダム性を保ちつつも、できるだけ最初の中心点間の位置を離しておくk-means++法というのもある。初期値の決め方に何かしら上手い制約条件を加えているっぽい。\n",
    "- 初期値違いで何セットが学習を回すのがデフォルト？\n",
    "\n",
    "#### k-means++\n",
    "- 入力データの中から初期の中心点をランダムに1個選択\n",
    "- 中心点以外の入力データを対象に、各中心点との距離の2乗を求める。これを重みとして考慮しながら次の中心点をランダムに選択する。\n",
    "- 中心点がk個になるまで繰り返す。\n",
    "- 普通のk-means法を行う\n",
    "\n",
    "誤差平方和の小ささ等をクラスタリング結果の評価指標にする場合もあるが、kの数にも依存する。  \n",
    "総じて評価は難しいらしい。\n"
   ]
  },
  {
   "cell_type": "markdown",
   "metadata": {},
   "source": [
    "### Hyperparameters optimization\n",
    "#### Random search\n",
    "- Gridを切らずにランダムにサーチする\n",
    "- Grid searchよりも性能がいいことが多いらしい。\n",
    "\n",
    "#### ベイズ最適化\n",
    "- ハイパーパラメータを振った時のモデルの性能から、その他のハイパーパラメータの値を用いたときのモデルの性能を予測する（モデル性能の期待値と分散を得る）\n",
    "- その結果を基に、次に探索すべきハイパーパラメータの値の検討を付けられるらしい。原理はちゃんと調べてない。\n",
    "\n"
   ]
  },
  {
   "cell_type": "markdown",
   "metadata": {},
   "source": [
    "### 疑似データでk-means"
   ]
  },
  {
   "cell_type": "code",
   "execution_count": 185,
   "metadata": {},
   "outputs": [
    {
     "name": "stderr",
     "output_type": "stream",
     "text": [
      "c:\\Users\\masa_\\anaconda3\\envs\\suai\\lib\\site-packages\\sklearn\\linear_model\\least_angle.py:35: DeprecationWarning: `np.float` is a deprecated alias for the builtin `float`. To silence this warning, use `float` by itself. Doing this will not modify any behavior and is safe. If you specifically wanted the numpy scalar type, use `np.float64` here.\n",
      "Deprecated in NumPy 1.20; for more details and guidance: https://numpy.org/devdocs/release/1.20.0-notes.html#deprecations\n",
      "  eps=np.finfo(np.float).eps,\n",
      "c:\\Users\\masa_\\anaconda3\\envs\\suai\\lib\\site-packages\\sklearn\\linear_model\\least_angle.py:597: DeprecationWarning: `np.float` is a deprecated alias for the builtin `float`. To silence this warning, use `float` by itself. Doing this will not modify any behavior and is safe. If you specifically wanted the numpy scalar type, use `np.float64` here.\n",
      "Deprecated in NumPy 1.20; for more details and guidance: https://numpy.org/devdocs/release/1.20.0-notes.html#deprecations\n",
      "  eps=np.finfo(np.float).eps, copy_X=True, fit_path=True,\n",
      "c:\\Users\\masa_\\anaconda3\\envs\\suai\\lib\\site-packages\\sklearn\\linear_model\\least_angle.py:836: DeprecationWarning: `np.float` is a deprecated alias for the builtin `float`. To silence this warning, use `float` by itself. Doing this will not modify any behavior and is safe. If you specifically wanted the numpy scalar type, use `np.float64` here.\n",
      "Deprecated in NumPy 1.20; for more details and guidance: https://numpy.org/devdocs/release/1.20.0-notes.html#deprecations\n",
      "  eps=np.finfo(np.float).eps, copy_X=True, fit_path=True,\n",
      "c:\\Users\\masa_\\anaconda3\\envs\\suai\\lib\\site-packages\\sklearn\\linear_model\\least_angle.py:862: DeprecationWarning: `np.float` is a deprecated alias for the builtin `float`. To silence this warning, use `float` by itself. Doing this will not modify any behavior and is safe. If you specifically wanted the numpy scalar type, use `np.float64` here.\n",
      "Deprecated in NumPy 1.20; for more details and guidance: https://numpy.org/devdocs/release/1.20.0-notes.html#deprecations\n",
      "  eps=np.finfo(np.float).eps, positive=False):\n",
      "c:\\Users\\masa_\\anaconda3\\envs\\suai\\lib\\site-packages\\sklearn\\linear_model\\least_angle.py:1097: DeprecationWarning: `np.float` is a deprecated alias for the builtin `float`. To silence this warning, use `float` by itself. Doing this will not modify any behavior and is safe. If you specifically wanted the numpy scalar type, use `np.float64` here.\n",
      "Deprecated in NumPy 1.20; for more details and guidance: https://numpy.org/devdocs/release/1.20.0-notes.html#deprecations\n",
      "  max_n_alphas=1000, n_jobs=None, eps=np.finfo(np.float).eps,\n",
      "c:\\Users\\masa_\\anaconda3\\envs\\suai\\lib\\site-packages\\sklearn\\linear_model\\least_angle.py:1344: DeprecationWarning: `np.float` is a deprecated alias for the builtin `float`. To silence this warning, use `float` by itself. Doing this will not modify any behavior and is safe. If you specifically wanted the numpy scalar type, use `np.float64` here.\n",
      "Deprecated in NumPy 1.20; for more details and guidance: https://numpy.org/devdocs/release/1.20.0-notes.html#deprecations\n",
      "  max_n_alphas=1000, n_jobs=None, eps=np.finfo(np.float).eps,\n",
      "c:\\Users\\masa_\\anaconda3\\envs\\suai\\lib\\site-packages\\sklearn\\linear_model\\least_angle.py:1480: DeprecationWarning: `np.float` is a deprecated alias for the builtin `float`. To silence this warning, use `float` by itself. Doing this will not modify any behavior and is safe. If you specifically wanted the numpy scalar type, use `np.float64` here.\n",
      "Deprecated in NumPy 1.20; for more details and guidance: https://numpy.org/devdocs/release/1.20.0-notes.html#deprecations\n",
      "  eps=np.finfo(np.float).eps, copy_X=True, positive=False):\n",
      "c:\\Users\\masa_\\anaconda3\\envs\\suai\\lib\\site-packages\\sklearn\\linear_model\\randomized_l1.py:152: DeprecationWarning: `np.float` is a deprecated alias for the builtin `float`. To silence this warning, use `float` by itself. Doing this will not modify any behavior and is safe. If you specifically wanted the numpy scalar type, use `np.float64` here.\n",
      "Deprecated in NumPy 1.20; for more details and guidance: https://numpy.org/devdocs/release/1.20.0-notes.html#deprecations\n",
      "  precompute=False, eps=np.finfo(np.float).eps,\n",
      "c:\\Users\\masa_\\anaconda3\\envs\\suai\\lib\\site-packages\\sklearn\\linear_model\\randomized_l1.py:320: DeprecationWarning: `np.float` is a deprecated alias for the builtin `float`. To silence this warning, use `float` by itself. Doing this will not modify any behavior and is safe. If you specifically wanted the numpy scalar type, use `np.float64` here.\n",
      "Deprecated in NumPy 1.20; for more details and guidance: https://numpy.org/devdocs/release/1.20.0-notes.html#deprecations\n",
      "  eps=np.finfo(np.float).eps, random_state=None,\n",
      "c:\\Users\\masa_\\anaconda3\\envs\\suai\\lib\\site-packages\\sklearn\\linear_model\\randomized_l1.py:580: DeprecationWarning: `np.float` is a deprecated alias for the builtin `float`. To silence this warning, use `float` by itself. Doing this will not modify any behavior and is safe. If you specifically wanted the numpy scalar type, use `np.float64` here.\n",
      "Deprecated in NumPy 1.20; for more details and guidance: https://numpy.org/devdocs/release/1.20.0-notes.html#deprecations\n",
      "  eps=4 * np.finfo(np.float).eps, n_jobs=None,\n",
      "c:\\Users\\masa_\\anaconda3\\envs\\suai\\lib\\site-packages\\sklearn\\decomposition\\online_lda.py:31: DeprecationWarning: `np.float` is a deprecated alias for the builtin `float`. To silence this warning, use `float` by itself. Doing this will not modify any behavior and is safe. If you specifically wanted the numpy scalar type, use `np.float64` here.\n",
      "Deprecated in NumPy 1.20; for more details and guidance: https://numpy.org/devdocs/release/1.20.0-notes.html#deprecations\n",
      "  EPS = np.finfo(np.float).eps\n",
      "c:\\Users\\masa_\\anaconda3\\envs\\suai\\lib\\site-packages\\sklearn\\feature_extraction\\image.py:167: DeprecationWarning: `np.int` is a deprecated alias for the builtin `int`. To silence this warning, use `int` by itself. Doing this will not modify any behavior and is safe. When replacing `np.int`, you may wish to use e.g. `np.int64` or `np.int32` to specify the precision. If you wish to review your current use, check the release note link for additional information.\n",
      "Deprecated in NumPy 1.20; for more details and guidance: https://numpy.org/devdocs/release/1.20.0-notes.html#deprecations\n",
      "  dtype=np.int):\n"
     ]
    }
   ],
   "source": [
    "import pandas as pd\n",
    "import numpy as np\n",
    "import matplotlib.pyplot as plt\n",
    "%matplotlib inline\n",
    "from sklearn.cluster import KMeans\n",
    "import seaborn as sns\n",
    "from sklearn.datasets import make_blobs"
   ]
  },
  {
   "cell_type": "code",
   "execution_count": 219,
   "metadata": {},
   "outputs": [
    {
     "data": {
      "text/html": [
       "<div>\n",
       "<style scoped>\n",
       "    .dataframe tbody tr th:only-of-type {\n",
       "        vertical-align: middle;\n",
       "    }\n",
       "\n",
       "    .dataframe tbody tr th {\n",
       "        vertical-align: top;\n",
       "    }\n",
       "\n",
       "    .dataframe thead th {\n",
       "        text-align: right;\n",
       "    }\n",
       "</style>\n",
       "<table border=\"1\" class=\"dataframe\">\n",
       "  <thead>\n",
       "    <tr style=\"text-align: right;\">\n",
       "      <th></th>\n",
       "      <th>x1</th>\n",
       "      <th>x2</th>\n",
       "      <th>label</th>\n",
       "    </tr>\n",
       "  </thead>\n",
       "  <tbody>\n",
       "    <tr>\n",
       "      <th>0</th>\n",
       "      <td>0.252924</td>\n",
       "      <td>4.356129</td>\n",
       "      <td>1</td>\n",
       "    </tr>\n",
       "    <tr>\n",
       "      <th>1</th>\n",
       "      <td>-1.003102</td>\n",
       "      <td>6.305140</td>\n",
       "      <td>1</td>\n",
       "    </tr>\n",
       "    <tr>\n",
       "      <th>2</th>\n",
       "      <td>0.159679</td>\n",
       "      <td>4.006479</td>\n",
       "      <td>1</td>\n",
       "    </tr>\n",
       "    <tr>\n",
       "      <th>3</th>\n",
       "      <td>-6.577477</td>\n",
       "      <td>2.077825</td>\n",
       "      <td>0</td>\n",
       "    </tr>\n",
       "    <tr>\n",
       "      <th>4</th>\n",
       "      <td>0.012106</td>\n",
       "      <td>6.080160</td>\n",
       "      <td>1</td>\n",
       "    </tr>\n",
       "  </tbody>\n",
       "</table>\n",
       "</div>"
      ],
      "text/plain": [
       "         x1        x2  label\n",
       "0  0.252924  4.356129      1\n",
       "1 -1.003102  6.305140      1\n",
       "2  0.159679  4.006479      1\n",
       "3 -6.577477  2.077825      0\n",
       "4  0.012106  6.080160      1"
      ]
     },
     "metadata": {},
     "output_type": "display_data"
    },
    {
     "data": {
      "text/plain": [
       "<seaborn.axisgrid.FacetGrid at 0x228a8103b88>"
      ]
     },
     "execution_count": 219,
     "metadata": {},
     "output_type": "execute_result"
    },
    {
     "data": {
      "image/png": "[encoded data removed]",
      "text/plain": [
       "<Figure size 558.875x500 with 1 Axes>"
      ]
     },
     "metadata": {},
     "output_type": "display_data"
    }
   ],
   "source": [
    "# 適当にクラスター形成するデータつくる\n",
    "X, y = make_blobs(n_samples=200, centers=3, n_features=2,\n",
    "                  cluster_std=2, random_state=1234)\n",
    "df_data = pd.DataFrame(X, columns=[\"x1\",\"x2\"])\n",
    "df_data[\"label\"] = y\n",
    "display(df_data.head())\n",
    "sns.lmplot(x=\"x1\", y=\"x2\", hue=\"label\", data=df_data,fit_reg=False)"
   ]
  },
  {
   "cell_type": "code",
   "execution_count": 723,
   "metadata": {},
   "outputs": [
    {
     "data": {
      "text/plain": [
       "<matplotlib.collections.PathCollection at 0x228a9d96e48>"
      ]
     },
     "execution_count": 723,
     "metadata": {},
     "output_type": "execute_result"
    },
    {
     "data": {
      "image/png": "[encoded data removed]",
      "text/plain": [
       "<Figure size 558.875x500 with 1 Axes>"
      ]
     },
     "metadata": {},
     "output_type": "display_data"
    }
   ],
   "source": [
    "# 適当に初期位置を決める\n",
    "c0, c1, c2 = np.array([-4, 0], dtype='float'), np.array([-10, 8], dtype='float'), np.array([5, 5], dtype='float')\n",
    "centers = np.array([c0, c1, c2])\n",
    "\n",
    "sns.lmplot(x=\"x1\", y=\"x2\", hue=\"label\", data=df_data,fit_reg=False)\n",
    "plt.scatter(x=c0[0], y=c0[1], c='b', marker='x')\n",
    "plt.scatter(x=c1[0], y=c1[1], c='orange', marker='x')\n",
    "plt.scatter(x=c2[0], y=c2[1], c='g', marker='x')\n",
    "\n",
    "plt.scatter(x=-2.88137215, y=1.10338167, c='b', marker='^')\n",
    "plt.scatter(x=-0.42822523, y=2.94975052, c='orange', marker='^')\n",
    "plt.scatter(x=2.86124651, y=-2.29604987, c='g', marker='^')"
   ]
  },
  {
   "cell_type": "code",
   "execution_count": 890,
   "metadata": {},
   "outputs": [
    {
     "data": {
      "text/plain": [
       "(array([[-2.88127952,  1.10367861],\n",
       "        [-0.42762697,  2.95000521],\n",
       "        [ 2.88274177, -2.230103  ]]),\n",
       " array([1.32872416, 1.13415689, 1.39646369]),\n",
       " 2.2364996278651503)"
      ]
     },
     "execution_count": 890,
     "metadata": {},
     "output_type": "execute_result"
    }
   ],
   "source": [
    "N = len(X) # データ数\n",
    "k = 3 # クラス数\n",
    "f = 2 # 変数の数\n",
    "alpha = 2 # 学習率\n",
    "\n",
    "### 誤差を計算\n",
    "deviation = np.zeros((N, k, 2))\n",
    "for i in np.arange(N):\n",
    "    deviation[i, :, :] = centers - X[i, :]\n",
    "\n",
    "norm = np.linalg.norm(deviation, axis=2)\n",
    "min_values = np.min(norm, axis=1)\n",
    "min_locations = norm == min_values[:, None]\n",
    "\n",
    "err = np.sum(norm * min_locations, axis=0) / N\n",
    "err\n",
    "\n",
    "### 誤差の微分値を計算\n",
    "diff = np.zeros((N, k, 2))\n",
    "for i in np.arange(N):\n",
    "    diff[i,:,:] = 2*centers - X[None, i]\n",
    "\n",
    "err_diff = np.sum(diff[:, :, :] * min_locations[:, :, None], axis=0) / N\n",
    "\n",
    "### 中心点の更新\n",
    "# print(c0, c1, c2)\n",
    "centers -= alpha * err_diff\n",
    "\n",
    "centers, err, np.linalg.norm(err)\n",
    "# これをfor文で繰り返せばいいはず"
   ]
  },
  {
   "cell_type": "code",
   "execution_count": 384,
   "metadata": {},
   "outputs": [
    {
     "name": "stdout",
     "output_type": "stream",
     "text": [
      "[-3.75497492  0.06922256] [-9.92594879  7.94509716] [4.73412698 4.58655132]\n"
     ]
    }
   ],
   "source": [
    "### 各データと、各中心点との距離を計算\n",
    "\n",
    "N = len(X) # データ数\n",
    "k = 3 # クラス数\n",
    "f = 2 # 変数の数\n",
    "alpha = 0.1 # 学習率\n",
    "\n",
    "deviation = np.zeros((N, k, 2))\n",
    "for i in np.arange(N):\n",
    "    deviation[i, 0] = c0 - X[i]\n",
    "    deviation[i, 1] = c1 - X[i]\n",
    "    deviation[i, 2] = c2 - X[i]\n",
    "\n",
    "norm = np.linalg.norm(deviation, axis=2)\n",
    "# diff[1:5], norm[1:5]\n",
    "\n",
    "\n",
    "### 誤差を計算\n",
    "min_values = np.min(norm, axis=1)\n",
    "min_locations = norm == min_values[:, None]\n",
    "\n",
    "err = np.sum(norm * min_locations, axis=0) / N\n",
    "err\n",
    "\n",
    "### 誤差の微分値を計算\n",
    "diff = np.zeros((N, k, 2))\n",
    "for i in np.arange(N):\n",
    "    diff[i, 0] = c0*2 - X[i]\n",
    "    diff[i, 1] = c1*2 - X[i]\n",
    "    diff[i, 2] = c2*2 - X[i]\n",
    "\n",
    "# diff.shape, min_locations.shape\n",
    "# diff[0:3, :, :], min_locations[0:3, :, None]\n",
    "# diff[0:3, :, :] * min_locations[0:3, :, None]\n",
    "err_diff = np.sum(diff[:, :, :] * min_locations[:, :, None], axis=0) / N\n",
    "\n",
    "### 中心点の更新\n",
    "print(c0, c1, c2)\n",
    "c0 -= alpha * err_diff[0]\n",
    "c1 -= alpha * err_diff[1]\n",
    "c2 -= alpha * err_diff[2]\n",
    "\n",
    "# これをfor文で繰り返せばいいはず"
   ]
  },
  {
   "cell_type": "markdown",
   "metadata": {},
   "source": []
  },
  {
   "cell_type": "code",
   "execution_count": 932,
   "metadata": {},
   "outputs": [
    {
     "name": "stdout",
     "output_type": "stream",
     "text": [
      "['dog' 'dog' 'cat' 'cat']\n"
     ]
    }
   ],
   "source": [
    "import scipy.spatial.distance as distance\n",
    "import scipy.stats as stats\n",
    "import numpy as np\n",
    "\n",
    "def kneighbors(X_new, X, n_neighbors, metric='euclidean'):\n",
    "    # dist = distance.pdist(X_new, X, metric)\n",
    "    dist = distance.cdist(X_new, X, metric)\n",
    "    # dist = distance.squareform(X_new, X, metric)\n",
    "    # dist = distance.directed_hausdorff(X_new, X, metric)\n",
    "    \n",
    "    k = n_neighbors\n",
    "    \n",
    "    # neigh_ind = np.argmax(dist, k)[:,:k]\n",
    "    neigh_ind = np.argpartition(dist, k)[:,:k]\n",
    "    # neigh_ind = np.partition(dist, k)[:,:k]\n",
    "    # neigh_ind = np.sort(dist, k)[:,:k]\n",
    "    \n",
    "    return neigh_ind\n",
    "\n",
    "def predict(X_new, X, y, n_neighbors, metric='euclidean'):\n",
    "    \n",
    "    classes, _y = np.unique(y, return_inverse=True)\n",
    "    \n",
    "    neigh_ind = kneighbors(X_new, X, n_neighbors, metric)\n",
    "    \n",
    "    class_ind, _ = stats.mode(_y[neigh_ind], axis=1)\n",
    "    # class_ind, _ = stats.mean(_y[neigh_ind], axis=1)\n",
    "    # class_ind, _ = stats.max(_y[neigh_ind], axis=1)\n",
    "    # class_ind, _ = stats.std(_y[neigh_ind], axis=1)\n",
    "    \n",
    "    # y_pred = classes.argmax(class_ind).ravel()\n",
    "    # y_pred = classes.max(class_ind).ravel()\n",
    "    # y_pred = classes.mode(class_ind).ravel()\n",
    "    y_pred = classes.take(class_ind).ravel()\n",
    "    \n",
    "    return y_pred\n",
    "\n",
    "X = np.array([[1, .5], [.5, .7], [.6, .3], [-.5, .4], [-.1, .6]])\n",
    "X_new = np.array([[-1.0,.5], [-.1,.7], [.5,.7], [1.5,.6]])\n",
    "y = ['cat', 'cat', 'cat', 'dog', 'dog']\n",
    "y_pred = predict(X_new, X, y, n_neighbors=2)\n",
    "print(y_pred)\n"
   ]
  },
  {
   "cell_type": "code",
   "execution_count": 986,
   "metadata": {},
   "outputs": [
    {
     "name": "stdout",
     "output_type": "stream",
     "text": [
      "[[-1.  0.]\n",
      " [ 2. -2.]\n",
      " [ 0. -1.]]\n"
     ]
    }
   ],
   "source": [
    "import numpy as np\n",
    "import scipy.spatial.distance as distance\n",
    "\n",
    "def k_init(X, n_clusters):\n",
    "    np.random.seed(12345)\n",
    "    \n",
    "    n_samples, n_features = X.shape\n",
    "    \n",
    "    # centers = np.empty((n_clusters), dtype=X.dtype)\n",
    "    # centers = np.empty((n_features), dtype=X.dtype)\n",
    "    centers = np.empty((n_clusters, n_features), dtype=X.dtype)\n",
    "    # centers = np.empty((n_features, n_clusters), dtype=X.dtype)\n",
    "\n",
    "    # center_id = np.random.randn(n_samples)\n",
    "    center_id = np.random.randint(n_samples)\n",
    "    # center_id = np.random.normal(n_samples)\n",
    "    # center_id = np.random.sample(n_samples)\n",
    "\n",
    "    centers[0] = X[center_id]\n",
    "    closest_dist_sq = distance.cdist(X[[center_id]], X, metric='sqeuclidean')\n",
    "    current_pot = closest_dist_sq.sum()\n",
    "    \n",
    "    for c in range(1, n_clusters):\n",
    "        rand_val = np.random.random_sample(1) * current_pot\n",
    "        \n",
    "        # center_id = np.argmax(np.cumsum(closest_dist_sq), rand_val)\n",
    "        center_id = np.searchsorted(np.cumsum(closest_dist_sq), rand_val)\n",
    "        # center_id = np.argwhere(np.cumsum(closest_dist_sq), rand_val)\n",
    "        # center_id = np.extract(np.cumsum(closest_dist_sq), rand_val)\n",
    "        \n",
    "        tmp_dist = distance.cdist(X[center_id], X, metric='sqeuclidean')\n",
    "        \n",
    "        # closest_dist_sq = np.min(closest_dist_sq, tmp_dist)\n",
    "        closest_dist_sq = np.minimum(closest_dist_sq, tmp_dist)\n",
    "        # closest_dist_sq = np.max(closest_dist_sq, tmp_dist)\n",
    "        # closest_dist_sq = np.maximum(closest_dist_sq, tmp_dist)\n",
    "\n",
    "        centers[c] = X[center_id]\n",
    "        current_pot = closest_dist_sq.sum()\n",
    "        \n",
    "    return centers\n",
    "\n",
    "X = np.array([\n",
    "    [0,0], [1,0], [-1,0], \n",
    "    [0,1], [0,-1], [-1,1], [-1,-1], \n",
    "    [0,.5], [.5,.5], [.5,0], \n",
    "    [1,2], [-1,2], [-2,-2], \n",
    "    [-3,3], [-2,0], [2,-2]\n",
    "])\n",
    "n_clusters = 3\n",
    "centers = k_init(X, n_clusters)\n",
    "print(centers)\n"
   ]
  },
  {
   "cell_type": "code",
   "execution_count": 1101,
   "metadata": {},
   "outputs": [
    {
     "name": "stdout",
     "output_type": "stream",
     "text": [
      "(15, 1)\n",
      "[[-12.50951953]\n",
      " [-16.33999601]\n",
      " [-13.3691643 ]\n",
      " [-23.56119428]\n",
      " [-12.55737682]\n",
      " [  6.87493232]\n",
      " [ -7.51147889]\n",
      " [  7.51063571]\n",
      " [ 13.67624051]\n",
      " [ 14.45190727]\n",
      " [  1.48499427]\n",
      " [  7.59461373]\n",
      " [  5.5674048 ]\n",
      " [ 12.78860307]\n",
      " [ 15.89939814]]\n"
     ]
    }
   ],
   "source": [
    "import numpy as np\n",
    "import pandas as pd\n",
    "\n",
    "math = np.array([41, 37, 40, 30, 40, 60, 46, 61, 67, 68, 55, 61, 59, 66, 69])\n",
    "physics = np.array([26, 32, 31, 24, 60, 40, 26, 27, 33, 25, 26, 30, 29, 37, 41])\n",
    "X = np.vstack((math, physics)).T\n",
    "# X_new = pca(X, n_components=1)\n",
    "# A = X - X.mean(axis=0)\n",
    "\n",
    "def svd(A):\n",
    "    B = np.dot(A.T, A)\n",
    "    eigen_values, eigen_vectors = np.linalg.eig(B)\n",
    "    # eigen_values, eigen_vectors = np.linalg.cholesky(B) # わんちゃん\n",
    "    \n",
    "    singular_values = np.sqrt(eigen_values)\n",
    "    \n",
    "    singular_index = np.argsort(singular_values)[::-1]\n",
    "    # singular_index = np.argsort(singular_values)[::0] # これはエラー\n",
    "    # singular_index = np.argsort(singular_values)[::1] # エラー\n",
    "    # singular_index = np.argsort(singular_values)[::2] # エラー\n",
    "    \n",
    "    S = np.diagflat(singular_values[singular_index])\n",
    "    # S = np.diagonal(singular_values[singular_index]) # エラー\n",
    "    # S = np.trace(singular_values[singular_index]) # エラー\n",
    "    # S = np.triu(singular_values[singular_index])\n",
    "    \n",
    "    V = eigen_vectors[:, singular_index]\n",
    "    \n",
    "    # dig = S.diagflat() # エラー\n",
    "    dig = S.diagonal()\n",
    "    # dig = S.trace() # エラー\n",
    "    # dig = S.tril() # エラー\n",
    "    \n",
    "    U = [np.dot(A, V[:,i]) / dig[i] for i in range(len(dig))]\n",
    "    U = np.array(U).T\n",
    "    \n",
    "    return U, S, V\n",
    "\n",
    "def pca(X, n_components):\n",
    "    X = X - X.mean(axis=0)\n",
    "    U, S, V = svd(X)\n",
    "    n = n_components\n",
    "    \n",
    "    ##### X_new = X * V = U * S* V^T* V = U * S\n",
    "    X_new = np.dot(U[:,:n], S[:n,:n])\n",
    "    # X_new = np.dot(S[:n,:n], S[:,:n])\n",
    "    # X_new = np.dot(U[:,:n].T, S[:n,:n])\n",
    "    # X_new = np.dot(S[:n,:n], S[:,:n].T)\n",
    "    \n",
    "    return X_new\n",
    "\n",
    "X_new = pca(X, n_components=1)\n",
    "print(X_new.shape)\n",
    "print(X_new)"
   ]
  }
 ],
 "metadata": {
  "kernelspec": {
   "display_name": "Python 3.7.12 ('suai')",
   "language": "python",
   "name": "python3"
  },
  "language_info": {
   "codemirror_mode": {
    "name": "ipython",
    "version": 3
   },
   "file_extension": ".py",
   "mimetype": "text/x-python",
   "name": "python",
   "nbconvert_exporter": "python",
   "pygments_lexer": "ipython3",
   "version": "3.7.12"
  },
  "orig_nbformat": 4,
  "vscode": {
   "interpreter": {
    "hash": "ec2d3ec80a29e3a16ca3de463db503e8102f89cf3bf51b4f223996957c08f77b"
   }
  }
 },
 "nbformat": 4,
 "nbformat_minor": 2
}
